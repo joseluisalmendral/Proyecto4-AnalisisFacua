{
 "cells": [
  {
   "cell_type": "markdown",
   "metadata": {},
   "source": [
    "# Creacion e Insercion de los datos recopilados en '1_scrapping_de_datos.ipynb'."
   ]
  },
  {
   "cell_type": "code",
   "execution_count": 1,
   "metadata": {},
   "outputs": [],
   "source": [
    "import warnings\n",
    "import pandas as pd\n",
    "import psycopg2\n",
    "from dotenv import load_dotenv\n",
    "import os\n",
    "import json\n",
    "\n",
    "pd.set_option('display.max_rows', None)\n",
    "pd.set_option('display.max_columns', None)\n",
    "warnings.filterwarnings('ignore')"
   ]
  },
  {
   "cell_type": "code",
   "execution_count": 2,
   "metadata": {},
   "outputs": [],
   "source": [
    "tabla_productos = pd.read_csv('../datos/tablas/tabla_productos_2024-10-26.csv', index_col=0)"
   ]
  },
  {
   "cell_type": "markdown",
   "metadata": {},
   "source": [
    "### Diccionario supers"
   ]
  },
  {
   "cell_type": "code",
   "execution_count": 3,
   "metadata": {},
   "outputs": [],
   "source": [
    "df_supers = pd.DataFrame(tabla_productos['supermercado'].unique(), columns=['supermercado'])"
   ]
  },
  {
   "cell_type": "code",
   "execution_count": 15,
   "metadata": {},
   "outputs": [
    {
     "data": {
      "text/plain": [
       "{'mercadona': 0,\n",
       " 'carrefour': 1,\n",
       " 'eroski': 2,\n",
       " 'dia': 3,\n",
       " 'hipercor': 4,\n",
       " 'alcampo': 5}"
      ]
     },
     "execution_count": 15,
     "metadata": {},
     "output_type": "execute_result"
    }
   ],
   "source": [
    "dict_supers = {v: k for k,v in dict(df_supers.T.iloc[0]).items()}\n",
    "dict_supers"
   ]
  },
  {
   "cell_type": "code",
   "execution_count": 6,
   "metadata": {},
   "outputs": [],
   "source": [
    "with open('../datos/jsons/dict_supers.json', \"w\") as archivo:\n",
    "    json.dump(dict_supers, archivo)"
   ]
  },
  {
   "cell_type": "markdown",
   "metadata": {},
   "source": [
    "### Diccionario categorias"
   ]
  },
  {
   "cell_type": "code",
   "execution_count": 10,
   "metadata": {},
   "outputs": [
    {
     "data": {
      "text/html": [
       "<div>\n",
       "<style scoped>\n",
       "    .dataframe tbody tr th:only-of-type {\n",
       "        vertical-align: middle;\n",
       "    }\n",
       "\n",
       "    .dataframe tbody tr th {\n",
       "        vertical-align: top;\n",
       "    }\n",
       "\n",
       "    .dataframe thead th {\n",
       "        text-align: right;\n",
       "    }\n",
       "</style>\n",
       "<table border=\"1\" class=\"dataframe\">\n",
       "  <thead>\n",
       "    <tr style=\"text-align: right;\">\n",
       "      <th></th>\n",
       "      <th>categoria</th>\n",
       "    </tr>\n",
       "  </thead>\n",
       "  <tbody>\n",
       "    <tr>\n",
       "      <th>0</th>\n",
       "      <td>Aceite Girasol</td>\n",
       "    </tr>\n",
       "    <tr>\n",
       "      <th>1</th>\n",
       "      <td>Aceite Oliva</td>\n",
       "    </tr>\n",
       "    <tr>\n",
       "      <th>2</th>\n",
       "      <td>Leche</td>\n",
       "    </tr>\n",
       "  </tbody>\n",
       "</table>\n",
       "</div>"
      ],
      "text/plain": [
       "        categoria\n",
       "0  Aceite Girasol\n",
       "1    Aceite Oliva\n",
       "2           Leche"
      ]
     },
     "execution_count": 10,
     "metadata": {},
     "output_type": "execute_result"
    }
   ],
   "source": [
    "df_categorias = pd.DataFrame(tabla_productos['categoria'].unique(), columns=['categoria'])\n",
    "df_categorias"
   ]
  },
  {
   "cell_type": "code",
   "execution_count": 14,
   "metadata": {},
   "outputs": [
    {
     "data": {
      "text/plain": [
       "{'Aceite Girasol': 0, 'Aceite Oliva': 1, 'Leche': 2}"
      ]
     },
     "execution_count": 14,
     "metadata": {},
     "output_type": "execute_result"
    }
   ],
   "source": [
    "dict_categorias = {v: k for k, v in dict(df_categorias.T.iloc[0]).items()}\n",
    "dict_categorias"
   ]
  },
  {
   "cell_type": "code",
   "execution_count": 16,
   "metadata": {},
   "outputs": [],
   "source": [
    "with open('../datos/jsons/dict_categorias.json', \"w\") as archivo:\n",
    "    json.dump(dict_categorias, archivo)"
   ]
  },
  {
   "cell_type": "markdown",
   "metadata": {},
   "source": [
    "### Diccionario subcategorias"
   ]
  },
  {
   "cell_type": "code",
   "execution_count": 19,
   "metadata": {},
   "outputs": [],
   "source": [
    "df_subcategorias = pd.DataFrame(tabla_productos['subcategoria'].unique(), columns=['subcategoria'])"
   ]
  },
  {
   "cell_type": "code",
   "execution_count": 21,
   "metadata": {},
   "outputs": [
    {
     "data": {
      "text/plain": [
       "{'Aceite Girasol': 0,\n",
       " 'Suave e Intenso': 1,\n",
       " 'Virgen': 2,\n",
       " 'Virgen Extra': 3,\n",
       " 'Enriquecida': 4,\n",
       " 'Entera Semi Desnatada': 5,\n",
       " 'Sin Lactosa': 6}"
      ]
     },
     "execution_count": 21,
     "metadata": {},
     "output_type": "execute_result"
    }
   ],
   "source": [
    "dict_subcategorias = {v:k for k, v in dict(df_subcategorias.T.iloc[0]).items()}\n",
    "dict_subcategorias"
   ]
  },
  {
   "cell_type": "code",
   "execution_count": 22,
   "metadata": {},
   "outputs": [],
   "source": [
    "with open('../datos/jsons/dict_subcategorias.json', \"w\") as archivo:\n",
    "    json.dump(dict_subcategorias, archivo)"
   ]
  },
  {
   "cell_type": "code",
   "execution_count": 24,
   "metadata": {},
   "outputs": [
    {
     "data": {
      "text/html": [
       "<div>\n",
       "<style scoped>\n",
       "    .dataframe tbody tr th:only-of-type {\n",
       "        vertical-align: middle;\n",
       "    }\n",
       "\n",
       "    .dataframe tbody tr th {\n",
       "        vertical-align: top;\n",
       "    }\n",
       "\n",
       "    .dataframe thead th {\n",
       "        text-align: right;\n",
       "    }\n",
       "</style>\n",
       "<table border=\"1\" class=\"dataframe\">\n",
       "  <thead>\n",
       "    <tr style=\"text-align: right;\">\n",
       "      <th></th>\n",
       "      <th>supermercado</th>\n",
       "      <th>categoria</th>\n",
       "      <th>subcategoria</th>\n",
       "      <th>nombre</th>\n",
       "      <th>cantidad</th>\n",
       "      <th>unidad</th>\n",
       "      <th>url_historico</th>\n",
       "      <th>id</th>\n",
       "    </tr>\n",
       "  </thead>\n",
       "  <tbody>\n",
       "    <tr>\n",
       "      <th>0</th>\n",
       "      <td>mercadona</td>\n",
       "      <td>Aceite Girasol</td>\n",
       "      <td>Aceite Girasol</td>\n",
       "      <td>Aceite De Girasol Refinado 0,2º Hacendado</td>\n",
       "      <td>1.0</td>\n",
       "      <td>l</td>\n",
       "      <td>https://super.facua.org/mercadona/aceite-de-gi...</td>\n",
       "      <td>0</td>\n",
       "    </tr>\n",
       "    <tr>\n",
       "      <th>1</th>\n",
       "      <td>mercadona</td>\n",
       "      <td>Aceite Girasol</td>\n",
       "      <td>Aceite Girasol</td>\n",
       "      <td>Aceite De Girasol Refinado 0,2º Hacendado</td>\n",
       "      <td>5.0</td>\n",
       "      <td>l</td>\n",
       "      <td>https://super.facua.org/mercadona/aceite-de-gi...</td>\n",
       "      <td>1</td>\n",
       "    </tr>\n",
       "    <tr>\n",
       "      <th>2</th>\n",
       "      <td>mercadona</td>\n",
       "      <td>Aceite Oliva</td>\n",
       "      <td>Suave e Intenso</td>\n",
       "      <td>Aceite De Oliva Intenso Hacendado</td>\n",
       "      <td>3.0</td>\n",
       "      <td>l</td>\n",
       "      <td>https://super.facua.org/mercadona/aceite-de-ol...</td>\n",
       "      <td>2</td>\n",
       "    </tr>\n",
       "  </tbody>\n",
       "</table>\n",
       "</div>"
      ],
      "text/plain": [
       "  supermercado       categoria     subcategoria  \\\n",
       "0    mercadona  Aceite Girasol   Aceite Girasol   \n",
       "1    mercadona  Aceite Girasol   Aceite Girasol   \n",
       "2    mercadona    Aceite Oliva  Suave e Intenso   \n",
       "\n",
       "                                      nombre  cantidad unidad  \\\n",
       "0  Aceite De Girasol Refinado 0,2º Hacendado       1.0      l   \n",
       "1  Aceite De Girasol Refinado 0,2º Hacendado       5.0      l   \n",
       "2          Aceite De Oliva Intenso Hacendado       3.0      l   \n",
       "\n",
       "                                       url_historico  id  \n",
       "0  https://super.facua.org/mercadona/aceite-de-gi...   0  \n",
       "1  https://super.facua.org/mercadona/aceite-de-gi...   1  \n",
       "2  https://super.facua.org/mercadona/aceite-de-ol...   2  "
      ]
     },
     "execution_count": 24,
     "metadata": {},
     "output_type": "execute_result"
    }
   ],
   "source": [
    "tabla_productos.head(3)"
   ]
  },
  {
   "cell_type": "markdown",
   "metadata": {},
   "source": [
    "## Ahora tenemos que crear las tablas tambien (dataframes) y guardarlos para luego sustituir a la 'tabla_productos' los nombres por sus correspondientes ids."
   ]
  },
  {
   "cell_type": "code",
   "execution_count": null,
   "metadata": {},
   "outputs": [],
   "source": []
  }
 ],
 "metadata": {
  "kernelspec": {
   "display_name": "proyecto4",
   "language": "python",
   "name": "python3"
  },
  "language_info": {
   "codemirror_mode": {
    "name": "ipython",
    "version": 3
   },
   "file_extension": ".py",
   "mimetype": "text/x-python",
   "name": "python",
   "nbconvert_exporter": "python",
   "pygments_lexer": "ipython3",
   "version": "3.12.4"
  }
 },
 "nbformat": 4,
 "nbformat_minor": 2
}
